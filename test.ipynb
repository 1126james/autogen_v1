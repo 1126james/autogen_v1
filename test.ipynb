{
 "cells": [
  {
   "cell_type": "code",
   "execution_count": 35,
   "metadata": {},
   "outputs": [],
   "source": [
    "import pandas as pd\n",
    "def get_column_details(df):\n",
    "    \"\"\"\n",
    "    Extract schema details from the DataFrame.\n",
    "    Returns a dictionary with column details.\n",
    "    \"\"\"\n",
    "    details = {}\n",
    "    for col in df.columns:\n",
    "        details[col] = {\n",
    "            'dtype': str(df[col].dtype),\n",
    "            'null_values': df[col].isnull().sum(),\n",
    "            'unique_values': df[col].nunique(),\n",
    "            'sample_values': df[col].dropna().unique()[:5].tolist()\n",
    "        }\n",
    "    return details"
   ]
  },
  {
   "cell_type": "code",
   "execution_count": 31,
   "metadata": {},
   "outputs": [],
   "source": [
    "df = pd.read_csv('sheets/sample.csv')"
   ]
  },
  {
   "cell_type": "code",
   "execution_count": 39,
   "metadata": {},
   "outputs": [],
   "source": [
    "x = get_column_details(df)"
   ]
  },
  {
   "cell_type": "code",
   "execution_count": 42,
   "metadata": {},
   "outputs": [
    {
     "data": {
      "text/plain": [
       "{'dtype': 'object',\n",
       " 'null_values': 0,\n",
       " 'unique_values': 3,\n",
       " 'sample_values': ['M', 'F', 'Nan']}"
      ]
     },
     "execution_count": 42,
     "metadata": {},
     "output_type": "execute_result"
    }
   ],
   "source": [
    "x['gender']"
   ]
  }
 ],
 "metadata": {
  "kernelspec": {
   "display_name": "autogen_v1",
   "language": "python",
   "name": "python3"
  },
  "language_info": {
   "codemirror_mode": {
    "name": "ipython",
    "version": 3
   },
   "file_extension": ".py",
   "mimetype": "text/x-python",
   "name": "python",
   "nbconvert_exporter": "python",
   "pygments_lexer": "ipython3",
   "version": "3.11.9"
  }
 },
 "nbformat": 4,
 "nbformat_minor": 2
}
